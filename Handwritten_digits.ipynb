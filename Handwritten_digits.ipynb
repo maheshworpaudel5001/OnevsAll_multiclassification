{
 "cells": [
  {
   "cell_type": "code",
   "execution_count": 1,
   "id": "beda8c7c",
   "metadata": {
    "ExecuteTime": {
     "end_time": "2022-06-25T17:17:59.996933Z",
     "start_time": "2022-06-25T17:17:58.801306Z"
    }
   },
   "outputs": [],
   "source": [
    "### First we will import module that helps to import MATLAB datafile\n",
    "from scipy.io import loadmat"
   ]
  },
  {
   "cell_type": "code",
   "execution_count": 2,
   "id": "e7506feb",
   "metadata": {
    "ExecuteTime": {
     "end_time": "2022-06-25T17:18:00.069889Z",
     "start_time": "2022-06-25T17:17:59.998157Z"
    }
   },
   "outputs": [
    {
     "name": "stdout",
     "output_type": "stream",
     "text": [
      "{'__header__': b'MATLAB 5.0 MAT-file, Platform: GLNXA64, Created on: Sun Oct 16 13:09:09 2011', '__version__': '1.0', '__globals__': [], 'X': array([[0., 0., 0., ..., 0., 0., 0.],\n",
      "       [0., 0., 0., ..., 0., 0., 0.],\n",
      "       [0., 0., 0., ..., 0., 0., 0.],\n",
      "       ...,\n",
      "       [0., 0., 0., ..., 0., 0., 0.],\n",
      "       [0., 0., 0., ..., 0., 0., 0.],\n",
      "       [0., 0., 0., ..., 0., 0., 0.]]), 'y': array([[10],\n",
      "       [10],\n",
      "       [10],\n",
      "       ...,\n",
      "       [ 9],\n",
      "       [ 9],\n",
      "       [ 9]], dtype=uint8)}\n"
     ]
    }
   ],
   "source": [
    "#  training data stored in arrays X, y\n",
    "data = loadmat('/Users/maheshworpaudel/Desktop/coursera_in_python/week4_kUJEz17MRN6CRM9ezITeZw_b7ca01e1a2714e9fb931b8d22baf0df1_ex3-octave/ex3data1.mat')\n",
    "print(data)"
   ]
  },
  {
   "cell_type": "markdown",
   "id": "4fa33564",
   "metadata": {
    "ExecuteTime": {
     "end_time": "2022-06-22T14:42:38.683330Z",
     "start_time": "2022-06-22T14:42:38.678170Z"
    }
   },
   "source": [
    "There are 5000 training examples in this data file, where each training\n",
    "example is a 20 pixel by 20 pixel grayscale image of the digit. Each pixel is\n",
    "represented by a \n",
    "floating point number indicating the grayscale intensity at\n",
    "that location. The 20 by 20 grid of pixels is \"unrolled\" into a 400-dimensional\n",
    "vector. Each of these training examples becomes a single row in our data\n",
    "matrix X. This gives us a 5000 by 400 matrix X where every row is a training\n",
    "example for a handwritten digit image.\n",
    "\n",
    "The second part of the training set is a 5000-dimensional vector y that\n",
    "contains labels for the training set. To make things more compatible with\n",
    "Octave/MATLAB indexing, where there is no zero index, the digit zero has been mapped to the value ten. Therefore, a \"0\" digit is labeled as \"10\", while\n",
    "the digits \"1\" to \"9\" are labeled as they are."
   ]
  },
  {
   "cell_type": "code",
   "execution_count": 3,
   "id": "d63726e7",
   "metadata": {
    "ExecuteTime": {
     "end_time": "2022-06-25T17:18:00.258550Z",
     "start_time": "2022-06-25T17:18:00.253463Z"
    }
   },
   "outputs": [],
   "source": [
    "X, y = data['X'], data['y'].ravel()"
   ]
  },
  {
   "cell_type": "code",
   "execution_count": 4,
   "id": "6c13a340",
   "metadata": {
    "ExecuteTime": {
     "end_time": "2022-06-25T17:18:00.847021Z",
     "start_time": "2022-06-25T17:18:00.842107Z"
    }
   },
   "outputs": [
    {
     "name": "stdout",
     "output_type": "stream",
     "text": [
      "[[0. 0. 0. ... 0. 0. 0.]\n",
      " [0. 0. 0. ... 0. 0. 0.]\n",
      " [0. 0. 0. ... 0. 0. 0.]\n",
      " ...\n",
      " [0. 0. 0. ... 0. 0. 0.]\n",
      " [0. 0. 0. ... 0. 0. 0.]\n",
      " [0. 0. 0. ... 0. 0. 0.]]\n",
      "(5000, 400)\n"
     ]
    }
   ],
   "source": [
    "print(X)\n",
    "print(X.shape)"
   ]
  },
  {
   "cell_type": "code",
   "execution_count": 5,
   "id": "fe696831",
   "metadata": {
    "ExecuteTime": {
     "end_time": "2022-06-25T17:18:01.299275Z",
     "start_time": "2022-06-25T17:18:01.295286Z"
    }
   },
   "outputs": [
    {
     "name": "stdout",
     "output_type": "stream",
     "text": [
      "[10 10 10 ...  9  9  9]\n"
     ]
    }
   ],
   "source": [
    "print(y)"
   ]
  },
  {
   "cell_type": "code",
   "execution_count": 6,
   "id": "d32abc84",
   "metadata": {
    "ExecuteTime": {
     "end_time": "2022-06-25T17:18:01.711502Z",
     "start_time": "2022-06-25T17:18:01.704961Z"
    }
   },
   "outputs": [
    {
     "name": "stdout",
     "output_type": "stream",
     "text": [
      "[0 0 0 ... 9 9 9]\n",
      "The size of y is 5000\n"
     ]
    }
   ],
   "source": [
    "# set the zero digit to 0, rather than its mapped 10 in this dataset\n",
    "# This is an artifact due to the fact that this dataset was used in \n",
    "# MATLAB where there is no index 0\n",
    "y[y == 10] = 0\n",
    "print(y)\n",
    "# Number of training examples\n",
    "m = y.size\n",
    "print('The size of y is', m)"
   ]
  },
  {
   "cell_type": "markdown",
   "id": "62b75ff6",
   "metadata": {},
   "source": [
    "We will begin by visualizing a subset of the training set. We will randomly select 100 training examples from X."
   ]
  },
  {
   "cell_type": "code",
   "execution_count": 7,
   "id": "bae94c75",
   "metadata": {
    "ExecuteTime": {
     "end_time": "2022-06-25T17:18:02.842739Z",
     "start_time": "2022-06-25T17:18:02.839594Z"
    }
   },
   "outputs": [],
   "source": [
    "import numpy as np"
   ]
  },
  {
   "cell_type": "code",
   "execution_count": 8,
   "id": "63cc92fb",
   "metadata": {
    "ExecuteTime": {
     "end_time": "2022-06-25T17:18:03.228585Z",
     "start_time": "2022-06-25T17:18:03.220563Z"
    }
   },
   "outputs": [],
   "source": [
    "row_id = np.random.randint(low=1, high=len(X), size = 100)"
   ]
  },
  {
   "cell_type": "code",
   "execution_count": 9,
   "id": "6de8b3a8",
   "metadata": {
    "ExecuteTime": {
     "end_time": "2022-06-25T17:18:03.597376Z",
     "start_time": "2022-06-25T17:18:03.589564Z"
    }
   },
   "outputs": [
    {
     "name": "stdout",
     "output_type": "stream",
     "text": [
      "[[0. 0. 0. ... 0. 0. 0.]\n",
      " [0. 0. 0. ... 0. 0. 0.]\n",
      " [0. 0. 0. ... 0. 0. 0.]\n",
      " ...\n",
      " [0. 0. 0. ... 0. 0. 0.]\n",
      " [0. 0. 0. ... 0. 0. 0.]\n",
      " [0. 0. 0. ... 0. 0. 0.]]\n"
     ]
    }
   ],
   "source": [
    "trainX = X[row_id]\n",
    "print(trainX)"
   ]
  },
  {
   "cell_type": "code",
   "execution_count": 10,
   "id": "b54a07cd",
   "metadata": {
    "ExecuteTime": {
     "end_time": "2022-06-25T17:18:04.113135Z",
     "start_time": "2022-06-25T17:18:04.108627Z"
    }
   },
   "outputs": [
    {
     "name": "stdout",
     "output_type": "stream",
     "text": [
      "[9 0 0 1 5 2 2 5 8 1 7 4 9 7 5 4 9 9 4 0 0 6 0 0 0 4 5 3 7 6 6 3 7 7 3 7 0\n",
      " 7 8 6 0 6 5 7 4 7 0 1 0 2 5 1 4 0 8 9 6 8 5 8 0 2 2 2 1 9 5 4 6 9 6 3 1 0\n",
      " 6 0 8 6 2 8 3 2 2 4 4 2 0 0 5 7 3 6 6 6 0 9 9 3 2 7]\n"
     ]
    }
   ],
   "source": [
    "trainy = y[row_id]\n",
    "print(trainy)"
   ]
  },
  {
   "cell_type": "code",
   "execution_count": 11,
   "id": "af3a554e",
   "metadata": {
    "ExecuteTime": {
     "end_time": "2022-06-25T17:18:05.205716Z",
     "start_time": "2022-06-25T17:18:04.815949Z"
    }
   },
   "outputs": [],
   "source": [
    "import matplotlib.pyplot as plt\n",
    "def displayData(X, example_width=None, figsize=(5, 5)):\n",
    "    \"\"\"\n",
    "    Displays 2D data stored in X in a nice grid.\n",
    "    \"\"\"\n",
    "    # Compute rows, cols\n",
    "    if X.ndim == 2:\n",
    "        m, n = X.shape\n",
    "    elif X.ndim == 1:\n",
    "        n = X.size\n",
    "        m = 1\n",
    "        X = X[None]  # Promote to a 2 dimensional array\n",
    "    else:\n",
    "        raise IndexError('Input X should be 1 or 2 dimensional.')\n",
    "\n",
    "    example_width = example_width or int(np.round(np.sqrt(n)))\n",
    "    example_height = n / example_width\n",
    "\n",
    "    # Compute number of items to display\n",
    "    display_rows = int(np.floor(np.sqrt(m)))\n",
    "    display_cols = int(np.ceil(m / display_rows))\n",
    "\n",
    "    fig, ax_array = plt.subplots(display_rows, display_cols, figsize=figsize)\n",
    "    fig.subplots_adjust(wspace=0.025, hspace=0.025)\n",
    "\n",
    "    ax_array = [ax_array] if m == 1 else ax_array.ravel()\n",
    "\n",
    "    for i, ax in enumerate(ax_array):\n",
    "        # Display Image\n",
    "        h = ax.imshow(X[i].reshape(example_width, example_width, order='F'),\n",
    "                      cmap='Greys', extent=[0, 1, 0, 1])\n",
    "        ax.axis('off')"
   ]
  },
  {
   "cell_type": "code",
   "execution_count": 12,
   "id": "24bfa6d1",
   "metadata": {
    "ExecuteTime": {
     "end_time": "2022-06-25T17:18:07.259764Z",
     "start_time": "2022-06-25T17:18:05.986311Z"
    }
   },
   "outputs": [
    {
     "data": {
      "image/png": "[encoded data removed]",
      "text/plain": [
       "<Figure size 360x360 with 100 Axes>"
      ]
     },
     "metadata": {
      "needs_background": "light"
     },
     "output_type": "display_data"
    }
   ],
   "source": [
    "displayData(trainX)"
   ]
  },
  {
   "cell_type": "code",
   "execution_count": 25,
   "id": "e0753b44",
   "metadata": {
    "ExecuteTime": {
     "end_time": "2022-06-25T17:22:53.779207Z",
     "start_time": "2022-06-25T17:22:53.049855Z"
    }
   },
   "outputs": [
    {
     "name": "stderr",
     "output_type": "stream",
     "text": [
      "/Users/maheshworpaudel/opt/anaconda3/lib/python3.9/site-packages/sklearn/linear_model/_logistic.py:763: ConvergenceWarning: lbfgs failed to converge (status=1):\n",
      "STOP: TOTAL NO. of ITERATIONS REACHED LIMIT.\n",
      "\n",
      "Increase the number of iterations (max_iter) or scale the data as shown in:\n",
      "    https://scikit-learn.org/stable/modules/preprocessing.html\n",
      "Please also refer to the documentation for alternative solver options:\n",
      "    https://scikit-learn.org/stable/modules/linear_model.html#logistic-regression\n",
      "  n_iter_i = _check_optimize_result(\n",
      "/Users/maheshworpaudel/opt/anaconda3/lib/python3.9/site-packages/sklearn/linear_model/_logistic.py:763: ConvergenceWarning: lbfgs failed to converge (status=1):\n",
      "STOP: TOTAL NO. of ITERATIONS REACHED LIMIT.\n",
      "\n",
      "Increase the number of iterations (max_iter) or scale the data as shown in:\n",
      "    https://scikit-learn.org/stable/modules/preprocessing.html\n",
      "Please also refer to the documentation for alternative solver options:\n",
      "    https://scikit-learn.org/stable/modules/linear_model.html#logistic-regression\n",
      "  n_iter_i = _check_optimize_result(\n"
     ]
    },
    {
     "data": {
      "text/plain": [
       "OneVsRestClassifier(estimator=LogisticRegression())"
      ]
     },
     "execution_count": 25,
     "metadata": {},
     "output_type": "execute_result"
    }
   ],
   "source": [
    "# logistic regression for multi-class classification using a one-vs-rest\n",
    "from sklearn.model_selection import train_test_split\n",
    "from sklearn.datasets import make_classification\n",
    "from sklearn.linear_model import LogisticRegression\n",
    "from sklearn.multiclass import OneVsRestClassifier\n",
    "\n",
    "# splits the training and test data set in 80% : 20%\n",
    "# assign random_state to any value.This ensures consistency.\n",
    "X_train, X_test, Y_train, Y_test = train_test_split(X, y, test_size = 0.2, random_state=5)\n",
    "\n",
    "# define model\n",
    "model = LogisticRegression()\n",
    "# define the ovr strategy\n",
    "ovr = OneVsRestClassifier(model)\n",
    "# fit model\n",
    "ovr.fit(X_train, Y_train)"
   ]
  },
  {
   "cell_type": "code",
   "execution_count": 29,
   "id": "7bd60e1f",
   "metadata": {
    "ExecuteTime": {
     "end_time": "2022-06-25T17:24:24.983661Z",
     "start_time": "2022-06-25T17:24:24.974859Z"
    }
   },
   "outputs": [
    {
     "name": "stdout",
     "output_type": "stream",
     "text": [
      "[0]\n"
     ]
    }
   ],
   "source": [
    "# make predictions\n",
    "yhat = ovr.predict(X_test[0].reshape((1, 400)))\n",
    "print(yhat)"
   ]
  },
  {
   "cell_type": "code",
   "execution_count": 30,
   "id": "a318a3cd",
   "metadata": {
    "ExecuteTime": {
     "end_time": "2022-06-25T17:24:46.636136Z",
     "start_time": "2022-06-25T17:24:46.622773Z"
    }
   },
   "outputs": [],
   "source": [
    "y_predictions = ovr.predict(X_test)"
   ]
  },
  {
   "cell_type": "code",
   "execution_count": 31,
   "id": "516f2aea",
   "metadata": {
    "ExecuteTime": {
     "end_time": "2022-06-25T17:24:55.721193Z",
     "start_time": "2022-06-25T17:24:55.713578Z"
    }
   },
   "outputs": [
    {
     "data": {
      "text/plain": [
       "89.8"
      ]
     },
     "execution_count": 31,
     "metadata": {},
     "output_type": "execute_result"
    }
   ],
   "source": [
    "np.mean(y_predictions == Y_test) * 100"
   ]
  },
  {
   "cell_type": "code",
   "execution_count": 43,
   "id": "23dda17a",
   "metadata": {
    "ExecuteTime": {
     "end_time": "2022-06-25T17:29:23.131100Z",
     "start_time": "2022-06-25T17:29:23.125268Z"
    }
   },
   "outputs": [],
   "source": [
    "from sklearn.neural_network import MLPClassifier\n",
    "from sklearn.metrics import accuracy_score\n",
    "\n",
    "mlp = MLPClassifier(hidden_layer_sizes=(100,), activation='logistic', alpha=1e-4,\n",
    "                    solver='sgd', tol=1e-4, random_state=1,\n",
    "                    learning_rate_init=.1, verbose=True)"
   ]
  },
  {
   "cell_type": "code",
   "execution_count": 40,
   "id": "ccf97074",
   "metadata": {
    "ExecuteTime": {
     "end_time": "2022-06-25T17:28:47.051415Z",
     "start_time": "2022-06-25T17:28:39.767974Z"
    },
    "scrolled": true
   },
   "outputs": [
    {
     "name": "stdout",
     "output_type": "stream",
     "text": [
      "Iteration 1, loss = 2.18485629\n",
      "Iteration 2, loss = 1.57174900\n",
      "Iteration 3, loss = 0.89812793\n",
      "Iteration 4, loss = 0.62357240\n",
      "Iteration 5, loss = 0.50212529\n",
      "Iteration 6, loss = 0.43576045\n",
      "Iteration 7, loss = 0.39276417\n",
      "Iteration 8, loss = 0.36321772\n",
      "Iteration 9, loss = 0.34186549\n",
      "Iteration 10, loss = 0.32531531\n",
      "Iteration 11, loss = 0.30751860\n",
      "Iteration 12, loss = 0.29697171\n",
      "Iteration 13, loss = 0.28521170\n",
      "Iteration 14, loss = 0.27660278\n",
      "Iteration 15, loss = 0.26723391\n",
      "Iteration 16, loss = 0.26137546\n",
      "Iteration 17, loss = 0.25319982\n",
      "Iteration 18, loss = 0.25033073\n",
      "Iteration 19, loss = 0.24236933\n",
      "Iteration 20, loss = 0.23650171\n",
      "Iteration 21, loss = 0.23153490\n",
      "Iteration 22, loss = 0.22741893\n",
      "Iteration 23, loss = 0.22265123\n",
      "Iteration 24, loss = 0.21723193\n",
      "Iteration 25, loss = 0.21433629\n",
      "Iteration 26, loss = 0.20905843\n",
      "Iteration 27, loss = 0.20540473\n",
      "Iteration 28, loss = 0.20183786\n",
      "Iteration 29, loss = 0.19749507\n",
      "Iteration 30, loss = 0.19450076\n",
      "Iteration 31, loss = 0.19222953\n",
      "Iteration 32, loss = 0.18702341\n",
      "Iteration 33, loss = 0.18341672\n",
      "Iteration 34, loss = 0.18155475\n",
      "Iteration 35, loss = 0.17743642\n",
      "Iteration 36, loss = 0.17524786\n",
      "Iteration 37, loss = 0.17212746\n",
      "Iteration 38, loss = 0.16845598\n",
      "Iteration 39, loss = 0.16594785\n",
      "Iteration 40, loss = 0.16405626\n",
      "Iteration 41, loss = 0.16102563\n",
      "Iteration 42, loss = 0.15767679\n",
      "Iteration 43, loss = 0.15463035\n",
      "Iteration 44, loss = 0.15211374\n",
      "Iteration 45, loss = 0.14965148\n",
      "Iteration 46, loss = 0.14765424\n",
      "Iteration 47, loss = 0.14452904\n",
      "Iteration 48, loss = 0.14272687\n",
      "Iteration 49, loss = 0.13952198\n",
      "Iteration 50, loss = 0.13790842\n",
      "Iteration 51, loss = 0.13528249\n",
      "Iteration 52, loss = 0.13215989\n",
      "Iteration 53, loss = 0.12974089\n",
      "Iteration 54, loss = 0.12649744\n",
      "Iteration 55, loss = 0.12634037\n",
      "Iteration 56, loss = 0.12328958\n",
      "Iteration 57, loss = 0.12196514\n",
      "Iteration 58, loss = 0.11850947\n",
      "Iteration 59, loss = 0.11708652\n",
      "Iteration 60, loss = 0.11523168\n",
      "Iteration 61, loss = 0.11273673\n",
      "Iteration 62, loss = 0.11107057\n",
      "Iteration 63, loss = 0.10877179\n",
      "Iteration 64, loss = 0.10719395\n",
      "Iteration 65, loss = 0.10597398\n",
      "Iteration 66, loss = 0.10386257\n",
      "Iteration 67, loss = 0.10099639\n",
      "Iteration 68, loss = 0.09980511\n",
      "Iteration 69, loss = 0.09795241\n",
      "Iteration 70, loss = 0.09694401\n",
      "Iteration 71, loss = 0.09415898\n",
      "Iteration 72, loss = 0.09308300\n",
      "Iteration 73, loss = 0.09168028\n",
      "Iteration 74, loss = 0.09053073\n",
      "Iteration 75, loss = 0.08765011\n",
      "Iteration 76, loss = 0.08672794\n",
      "Iteration 77, loss = 0.08523460\n",
      "Iteration 78, loss = 0.08404727\n",
      "Iteration 79, loss = 0.08213807\n",
      "Iteration 80, loss = 0.08134474\n",
      "Iteration 81, loss = 0.07976917\n",
      "Iteration 82, loss = 0.07816386\n",
      "Iteration 83, loss = 0.07717687\n",
      "Iteration 84, loss = 0.07497904\n",
      "Iteration 85, loss = 0.07435240\n",
      "Iteration 86, loss = 0.07361955\n",
      "Iteration 87, loss = 0.07159566\n",
      "Iteration 88, loss = 0.07022530\n",
      "Iteration 89, loss = 0.06936596\n",
      "Iteration 90, loss = 0.06837747\n",
      "Iteration 91, loss = 0.06686259\n",
      "Iteration 92, loss = 0.06586902\n",
      "Iteration 93, loss = 0.06503085\n",
      "Iteration 94, loss = 0.06406752\n",
      "Iteration 95, loss = 0.06298132\n",
      "Iteration 96, loss = 0.06176148\n",
      "Iteration 97, loss = 0.06079737\n",
      "Iteration 98, loss = 0.06002663\n",
      "Iteration 99, loss = 0.05885457\n",
      "Iteration 100, loss = 0.05764128\n",
      "Iteration 101, loss = 0.05676114\n",
      "Iteration 102, loss = 0.05573905\n",
      "Iteration 103, loss = 0.05504793\n",
      "Iteration 104, loss = 0.05458772\n",
      "Iteration 105, loss = 0.05337980\n",
      "Iteration 106, loss = 0.05277091\n",
      "Iteration 107, loss = 0.05145771\n",
      "Iteration 108, loss = 0.05052237\n",
      "Iteration 109, loss = 0.05038985\n",
      "Iteration 110, loss = 0.04966647\n",
      "Iteration 111, loss = 0.04861504\n",
      "Iteration 112, loss = 0.04757776\n",
      "Iteration 113, loss = 0.04730686\n",
      "Iteration 114, loss = 0.04609097\n",
      "Iteration 115, loss = 0.04577910\n",
      "Iteration 116, loss = 0.04469808\n",
      "Iteration 117, loss = 0.04422247\n",
      "Iteration 118, loss = 0.04354982\n",
      "Iteration 119, loss = 0.04293812\n",
      "Iteration 120, loss = 0.04212374\n",
      "Iteration 121, loss = 0.04140325\n",
      "Iteration 122, loss = 0.04102824\n",
      "Iteration 123, loss = 0.04052793\n",
      "Iteration 124, loss = 0.03967709\n",
      "Iteration 125, loss = 0.03919876\n",
      "Iteration 126, loss = 0.03847124\n",
      "Iteration 127, loss = 0.03801805\n",
      "Iteration 128, loss = 0.03729803\n",
      "Iteration 129, loss = 0.03722353\n",
      "Iteration 130, loss = 0.03624114\n",
      "Iteration 131, loss = 0.03578351\n",
      "Iteration 132, loss = 0.03519416\n",
      "Iteration 133, loss = 0.03466704\n",
      "Iteration 134, loss = 0.03420692\n",
      "Iteration 135, loss = 0.03380941\n",
      "Iteration 136, loss = 0.03349232\n",
      "Iteration 137, loss = 0.03293697\n",
      "Iteration 138, loss = 0.03247926\n",
      "Iteration 139, loss = 0.03217123\n",
      "Iteration 140, loss = 0.03165391\n",
      "Iteration 141, loss = 0.03105160\n",
      "Iteration 142, loss = 0.03059439\n",
      "Iteration 143, loss = 0.03026350\n",
      "Iteration 144, loss = 0.02996553\n",
      "Iteration 145, loss = 0.02956605\n",
      "Iteration 146, loss = 0.02930102\n",
      "Iteration 147, loss = 0.02894309\n",
      "Iteration 148, loss = 0.02850762\n",
      "Iteration 149, loss = 0.02824471\n",
      "Iteration 150, loss = 0.02776705\n",
      "Iteration 151, loss = 0.02744336\n",
      "Iteration 152, loss = 0.02694709\n",
      "Iteration 153, loss = 0.02659829\n",
      "Iteration 154, loss = 0.02654420\n",
      "Iteration 155, loss = 0.02601052\n",
      "Iteration 156, loss = 0.02569359\n",
      "Iteration 157, loss = 0.02552423\n",
      "Iteration 158, loss = 0.02522312\n",
      "Iteration 159, loss = 0.02465035\n",
      "Iteration 160, loss = 0.02431152\n",
      "Iteration 161, loss = 0.02417271\n",
      "Iteration 162, loss = 0.02385502\n",
      "Iteration 163, loss = 0.02355140\n",
      "Iteration 164, loss = 0.02332849\n",
      "Iteration 165, loss = 0.02295481\n",
      "Iteration 166, loss = 0.02279792\n",
      "Iteration 167, loss = 0.02244730\n",
      "Iteration 168, loss = 0.02241783\n",
      "Iteration 169, loss = 0.02191899\n",
      "Iteration 170, loss = 0.02174044\n",
      "Iteration 171, loss = 0.02146106\n",
      "Iteration 172, loss = 0.02113597\n",
      "Iteration 173, loss = 0.02105316\n",
      "Iteration 174, loss = 0.02079625\n",
      "Iteration 175, loss = 0.02067370\n",
      "Iteration 176, loss = 0.02041026\n",
      "Iteration 177, loss = 0.02009369\n",
      "Iteration 178, loss = 0.02007938\n",
      "Iteration 179, loss = 0.01974585\n",
      "Iteration 180, loss = 0.01953028\n",
      "Iteration 181, loss = 0.01932419\n",
      "Iteration 182, loss = 0.01896036\n",
      "Iteration 183, loss = 0.01872178\n",
      "Iteration 184, loss = 0.01860306\n",
      "Iteration 185, loss = 0.01841964\n",
      "Iteration 186, loss = 0.01830486\n",
      "Iteration 187, loss = 0.01805937\n",
      "Iteration 188, loss = 0.01783572\n",
      "Iteration 189, loss = 0.01780737\n",
      "Iteration 190, loss = 0.01754845\n",
      "Iteration 191, loss = 0.01739597\n",
      "Iteration 192, loss = 0.01707064\n",
      "Iteration 193, loss = 0.01690919\n",
      "Iteration 194, loss = 0.01682001\n",
      "Iteration 195, loss = 0.01656318\n",
      "Iteration 196, loss = 0.01649003\n",
      "Iteration 197, loss = 0.01633597\n",
      "Iteration 198, loss = 0.01610035\n",
      "Iteration 199, loss = 0.01597460\n",
      "Iteration 200, loss = 0.01574182\n"
     ]
    },
    {
     "name": "stderr",
     "output_type": "stream",
     "text": [
      "/Users/maheshworpaudel/opt/anaconda3/lib/python3.9/site-packages/sklearn/neural_network/_multilayer_perceptron.py:614: ConvergenceWarning: Stochastic Optimizer: Maximum iterations (200) reached and the optimization hasn't converged yet.\n",
      "  warnings.warn(\n"
     ]
    }
   ],
   "source": [
    "fit = mlp.fit(X_train,Y_train)"
   ]
  },
  {
   "cell_type": "code",
   "execution_count": 41,
   "id": "6b38e4d4",
   "metadata": {
    "ExecuteTime": {
     "end_time": "2022-06-25T17:28:53.405978Z",
     "start_time": "2022-06-25T17:28:53.387025Z"
    }
   },
   "outputs": [],
   "source": [
    "predictions = mlp.predict(X_test)"
   ]
  },
  {
   "cell_type": "code",
   "execution_count": 44,
   "id": "6d6c768d",
   "metadata": {
    "ExecuteTime": {
     "end_time": "2022-06-25T17:29:29.856743Z",
     "start_time": "2022-06-25T17:29:29.847984Z"
    }
   },
   "outputs": [
    {
     "data": {
      "text/plain": [
       "0.932"
      ]
     },
     "execution_count": 44,
     "metadata": {},
     "output_type": "execute_result"
    }
   ],
   "source": [
    "accuracy_score(Y_test, predictions)"
   ]
  },
  {
   "cell_type": "code",
   "execution_count": null,
   "id": "8351c6da",
   "metadata": {},
   "outputs": [],
   "source": []
  }
 ],
 "metadata": {
  "kernelspec": {
   "display_name": "Python 3 (ipykernel)",
   "language": "python",
   "name": "python3"
  },
  "language_info": {
   "codemirror_mode": {
    "name": "ipython",
    "version": 3
   },
   "file_extension": ".py",
   "mimetype": "text/x-python",
   "name": "python",
   "nbconvert_exporter": "python",
   "pygments_lexer": "ipython3",
   "version": "3.9.7"
  }
 },
 "nbformat": 4,
 "nbformat_minor": 5
}
